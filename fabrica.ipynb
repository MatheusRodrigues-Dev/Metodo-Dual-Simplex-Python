{
 "cells": [
  {
   "cell_type": "code",
   "execution_count": 1,
   "id": "b95778e5",
   "metadata": {},
   "outputs": [
    {
     "name": "stdout",
     "output_type": "stream",
     "text": [
      "Status: Optimal\n",
      "VPL Total Máximo (R$ milhões): 52.0\n",
      "\n",
      "Projetos Selecionados:\n",
      "Projeto 1: Investimento (ano0: 5, ano1: 4, ano2: 6) - VPL: 22\n",
      "Projeto 3: Investimento (ano0: 3, ano1: 2, ano2: 1) - VPL: 16\n",
      "Projeto 4: Investimento (ano0: 4, ano1: 1, ano2: 2) - VPL: 14\n",
      "\n",
      "Recursos Utilizados:\n",
      "Ano 0: 12.0/12\n",
      "Ano 1: 7.0/10\n",
      "Ano 2: 9.0/9\n"
     ]
    }
   ],
   "source": [
    "from pulp import *\n",
    "\n",
    "# Dados do problema\n",
    "projetos = {\n",
    "    1: {'ano0': 5, 'ano1': 4, 'ano2': 6, 'vpl': 22},\n",
    "    2: {'ano0': 4, 'ano1': 3, 'ano2': 3, 'vpl': 17},\n",
    "    3: {'ano0': 3, 'ano1': 2, 'ano2': 1, 'vpl': 16},\n",
    "    4: {'ano0': 4, 'ano1': 1, 'ano2': 2, 'vpl': 14},\n",
    "    5: {'ano0': 5, 'ano1': 3, 'ano2': 6, 'vpl': 20}\n",
    "}\n",
    "\n",
    "recursos_disponiveis = {'ano0': 12, 'ano1': 10, 'ano2': 9}\n",
    "\n",
    "# Cria o problema de maximização\n",
    "prob = LpProblem(\"Investiilia_Orcamento_Capital\", LpMaximize)\n",
    "\n",
    "# Variáveis de decisão (binárias: 1 se projeto for selecionado, 0 caso contrário)\n",
    "x = LpVariable.dicts(\"Projeto\", projetos.keys(), cat='Binary')\n",
    "\n",
    "# Função objetivo: Maximizar o VPL total\n",
    "prob += lpSum([projetos[j]['vpl'] * x[j] for j in projetos])\n",
    "\n",
    "# Restrições de recursos por ano\n",
    "prob += lpSum([projetos[j]['ano0'] * x[j] for j in projetos]) <= recursos_disponiveis['ano0'], \"Recurso_Ano0\"\n",
    "prob += lpSum([projetos[j]['ano1'] * x[j] for j in projetos]) <= recursos_disponiveis['ano1'], \"Recurso_Ano1\"\n",
    "prob += lpSum([projetos[j]['ano2'] * x[j] for j in projetos]) <= recursos_disponiveis['ano2'], \"Recurso_Ano2\"\n",
    "\n",
    "# Resolve o problema\n",
    "prob.solve()\n",
    "\n",
    "# Exibe os resultados\n",
    "print(\"Status:\", LpStatus[prob.status])\n",
    "print(\"VPL Total Máximo (R$ milhões):\", value(prob.objective))\n",
    "print(\"\\nProjetos Selecionados:\")\n",
    "for j in projetos:\n",
    "    if x[j].value() == 1:\n",
    "        print(f\"Projeto {j}: Investimento (ano0: {projetos[j]['ano0']}, ano1: {projetos[j]['ano1']}, ano2: {projetos[j]['ano2']}) - VPL: {projetos[j]['vpl']}\")\n",
    "\n",
    "print(\"\\nRecursos Utilizados:\")\n",
    "print(f\"Ano 0: {sum(projetos[j]['ano0'] * x[j].value() for j in projetos)}/{recursos_disponiveis['ano0']}\")\n",
    "print(f\"Ano 1: {sum(projetos[j]['ano1'] * x[j].value() for j in projetos)}/{recursos_disponiveis['ano1']}\")\n",
    "print(f\"Ano 2: {sum(projetos[j]['ano2'] * x[j].value() for j in projetos)}/{recursos_disponiveis['ano2']}\")"
   ]
  }
 ],
 "metadata": {
  "kernelspec": {
   "display_name": "Python 3",
   "language": "python",
   "name": "python3"
  },
  "language_info": {
   "codemirror_mode": {
    "name": "ipython",
    "version": 3
   },
   "file_extension": ".py",
   "mimetype": "text/x-python",
   "name": "python",
   "nbconvert_exporter": "python",
   "pygments_lexer": "ipython3",
   "version": "3.13.5"
  }
 },
 "nbformat": 4,
 "nbformat_minor": 5
}
